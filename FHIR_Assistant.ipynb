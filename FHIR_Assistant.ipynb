{
 "cells": [
  {
   "cell_type": "code",
   "execution_count": null,
   "metadata": {},
   "outputs": [
    {
     "name": "stdout",
     "output_type": "stream",
     "text": [
      "Requirement already satisfied: requests in /Users/michaellynch/Library/Caches/pypoetry/virtualenvs/fhir-assistant-dqhhNJNC-py3.11/lib/python3.11/site-packages (2.31.0)\n",
      "Requirement already satisfied: charset-normalizer<4,>=2 in /Users/michaellynch/Library/Caches/pypoetry/virtualenvs/fhir-assistant-dqhhNJNC-py3.11/lib/python3.11/site-packages (from requests) (3.3.2)\n",
      "Requirement already satisfied: idna<4,>=2.5 in /Users/michaellynch/Library/Caches/pypoetry/virtualenvs/fhir-assistant-dqhhNJNC-py3.11/lib/python3.11/site-packages (from requests) (3.4)\n",
      "Requirement already satisfied: urllib3<3,>=1.21.1 in /Users/michaellynch/Library/Caches/pypoetry/virtualenvs/fhir-assistant-dqhhNJNC-py3.11/lib/python3.11/site-packages (from requests) (2.0.7)\n",
      "Requirement already satisfied: certifi>=2017.4.17 in /Users/michaellynch/Library/Caches/pypoetry/virtualenvs/fhir-assistant-dqhhNJNC-py3.11/lib/python3.11/site-packages (from requests) (2023.7.22)\n",
      "\n",
      "\u001b[1m[\u001b[0m\u001b[34;49mnotice\u001b[0m\u001b[1;39;49m]\u001b[0m\u001b[39;49m A new release of pip is available: \u001b[0m\u001b[31;49m23.1.2\u001b[0m\u001b[39;49m -> \u001b[0m\u001b[32;49m23.3.1\u001b[0m\n",
      "\u001b[1m[\u001b[0m\u001b[34;49mnotice\u001b[0m\u001b[1;39;49m]\u001b[0m\u001b[39;49m To update, run: \u001b[0m\u001b[32;49mpip install --upgrade pip\u001b[0m\n",
      "Note: you may need to restart the kernel to use updated packages.\n"
     ]
    }
   ],
   "source": [
    "%pip install requests"
   ]
  },
  {
   "cell_type": "code",
   "execution_count": null,
   "metadata": {},
   "outputs": [
    {
     "name": "stdout",
     "output_type": "stream",
     "text": [
      "{'resourceType': 'Bundle', 'id': 'e891a0ad-1ff8-4603-a586-788c3efbdd35', 'meta': {'lastUpdated': '2023-11-09T20:45:55.166+00:00'}, 'type': 'searchset', 'total': 0, 'link': [{'relation': 'self', 'url': 'https://hapi.fhir.org/baseR4/MedicationRequest?_include=MedicationRequest%3Asubject&code=39623'}]}\n",
      "[]\n"
     ]
    }
   ],
   "source": [
    "import requests\n",
    "\n",
    "# FHIR server base URL\n",
    "base_url = 'https://hapi.fhir.org/baseR4'\n",
    "\n",
    "# Function to search for MedicationRequest resources by a given code\n",
    "def get_medication_requests_by_code(medication_code):\n",
    "    # Construct the query URL\n",
    "    query_url = f\"{base_url}/MedicationRequest?code={medication_code}&_include=MedicationRequest:subject\"\n",
    "    \n",
    "    # Send the request to the FHIR API\n",
    "    response = requests.get(query_url)\n",
    "    \n",
    "    # Return the JSON response if successful\n",
    "    if response.status_code == 200:\n",
    "        return response.json()\n",
    "    else:\n",
    "        raise Exception(\"Error fetching medication requests: HTTP Status Code\", response.status_code)\n",
    "\n",
    "# Function to extract patient ids from the MedicationRequest search set\n",
    "def get_patient_references(medication_requests):\n",
    "    patient_references = []\n",
    "    for entry in medication_requests.get('entry', []):\n",
    "        resource = entry.get('resource', {})\n",
    "        if resource.get('resourceType') == 'MedicationRequest' and 'subject' in resource:\n",
    "            patient_references.append(resource['subject']['reference'])\n",
    "    return patient_references\n",
    "\n",
    "# Function to get patient Contact details including emails\n",
    "def get_patient_emails(patient_references):\n",
    "    patient_emails = []\n",
    "    for reference in patient_references:\n",
    "        patient_id = reference.split('/')[-1]\n",
    "        query_url = f\"{base_url}/Patient/{patient_id}\"\n",
    "        response = requests.get(query_url)\n",
    "        if response.status_code == 200:\n",
    "            patient = response.json()\n",
    "            for contact in patient.get('telecom', []):\n",
    "                if contact.get('system') == 'email':\n",
    "                    patient_emails.append(contact.get('value'))\n",
    "    return patient_emails\n",
    "\n",
    "# Step 1: Get MedicationRequests by medication code\n",
    "medication_code = \"39623\"\n",
    "medication_requests = get_medication_requests_by_code(medication_code)\n",
    "print(medication_requests)\n",
    "\n",
    "# Step 2: Extract patient references from MedicationRequests\n",
    "patient_references = get_patient_references(medication_requests)\n",
    "\n",
    "# Step 3: Get patient emails from Patient resources\n",
    "patient_emails = get_patient_emails(patient_references)\n",
    "\n",
    "# Display the results\n",
    "print(patient_emails)\n",
    "\n"
   ]
  },
  {
   "cell_type": "code",
   "execution_count": 1,
   "metadata": {},
   "outputs": [
    {
     "name": "stdout",
     "output_type": "stream",
     "text": [
      "sarahsmith@gmail.com\n"
     ]
    }
   ],
   "source": [
    "\n",
    "# The endpoint for searching patients by surname\n",
    "patient_search_url = f'{base_url}/Patient'\n",
    "\n",
    "# The parameters for the search query, searching for patients with the surname 'Smith'\n",
    "search_params = {\n",
    "    'family': 'Smith'\n",
    "}\n",
    "\n",
    "# Make the GET request to search for patients with the surname 'Smith'\n",
    "response = requests.get(patient_search_url, params=search_params)\n",
    "\n",
    "# Check if the request was successful\n",
    "if response.status_code == 200:\n",
    "    # Parse the response as JSON\n",
    "    patients = response.json()\n",
    "\n",
    "    # Extract the email addresses from the patient data\n",
    "    email_addresses = []\n",
    "    for entry in patients.get('entry', []):\n",
    "        patient = entry.get('resource')\n",
    "        for contact in patient.get('telecom', []):\n",
    "            if contact.get('system') == 'email':\n",
    "                email_addresses.append(contact.get('value'))\n",
    "\n",
    "    # Print out the email addresses\n",
    "    for email in email_addresses:\n",
    "        print(email)\n",
    "else:\n",
    "    print(f'Request failed with status code: {response.status_code}')"
   ]
  },
  {
   "cell_type": "code",
   "execution_count": 2,
   "metadata": {},
   "outputs": [
    {
     "name": "stdout",
     "output_type": "stream",
     "text": [
      "Michelle\n",
      "Sean\n",
      "Julia\n"
     ]
    }
   ],
   "source": [
    "\n",
    "# The endpoint for searching patients by surname\n",
    "patient_search_url = f'{base_url}/Patient'\n",
    "\n",
    "# The parameters for the search query, searching for patients with the surname 'Smith'\n",
    "search_params = {\n",
    "    'family': 'Smith'\n",
    "}\n",
    "\n",
    "# Make the GET request to search for patients with the surname 'Smith'\n",
    "response = requests.get(patient_search_url, params=search_params)\n",
    "\n",
    "# Check if the request was successful\n",
    "if response.status_code == 200:\n",
    "    # Parse the response as JSON\n",
    "    patients = response.json()\n",
    "\n",
    "    # Extract and print the first names from the patient data\n",
    "    for entry in patients.get('entry', []):\n",
    "        patient = entry.get('resource')\n",
    "        for name in patient.get('name', []):\n",
    "            # Assuming we want the 'usual' or 'official' names. If not, remove the next line.\n",
    "            if name.get('use') in ['usual', 'official']:\n",
    "                given_names = name.get('given', [])  # 'given' is a list of given names(parts)\n",
    "                # Combine the parts of given name and print them\n",
    "                full_given_name = ' '.join(given_names)\n",
    "                print(full_given_name)\n",
    "else:\n",
    "    print(f'Request failed with status code: {response.status_code}')"
   ]
  },
  {
   "cell_type": "code",
   "execution_count": 3,
   "metadata": {},
   "outputs": [
    {
     "name": "stdout",
     "output_type": "stream",
     "text": [
      "| First Name | Last Name | Email Address | Patient ID |\n",
      "|------------|-----------|----------------|-------------|\n",
      "|  | Smith |  | 52865 |\n",
      "|  | Smith |  | 53254 |\n",
      "|  | Smith | sarahsmith@gmail.com | 591264 |\n",
      "|  | Smith |  | 591645 |\n",
      "| Michelle | Smith |  | 594843 |\n",
      "|  | Smith |  | 596719 |\n",
      "|  | Smith |  | 596720 |\n",
      "|  | Smith |  | 596721 |\n",
      "|  | Smith |  | 596722 |\n",
      "|  | Smith |  | 596723 |\n",
      "|  | Smith |  | 596724 |\n",
      "|  | Smith |  | 596725 |\n",
      "|  | Smith |  | 596726 |\n",
      "|  | Smith |  | 596732 |\n",
      "|  | Smith |  | 596733 |\n",
      "|  | Smith |  | 596736 |\n",
      "|  | Smith |  | 596737 |\n",
      "|  | Smith |  | 596764 |\n",
      "| Sean | Smith |  | 597226 |\n",
      "| Julia | Smith |  | 618626 |\n"
     ]
    }
   ],
   "source": [
    "\n",
    "# The endpoint for searching patients by surname\n",
    "patient_search_url = f'{base_url}/Patient'\n",
    "\n",
    "# The parameters for the search query, searching for patients with the surname 'Smith'\n",
    "search_params = {\n",
    "    'family': 'Smith'\n",
    "}\n",
    "\n",
    "# Make the GET request to search for patients with the surname 'Smith'\n",
    "response = requests.get(patient_search_url, params=search_params)\n",
    "\n",
    "# Check if the request was successful\n",
    "if response.status_code == 200:\n",
    "    # Parse the response as JSON\n",
    "    patients = response.json()\n",
    "\n",
    "    # Begin constructing the markdown table\n",
    "    table = [\"| First Name | Last Name | Email Address | Patient ID |\", \"|------------|-----------|----------------|-------------|\"]\n",
    "    \n",
    "    for entry in patients.get('entry', []):\n",
    "        patient = entry.get('resource')\n",
    "        patient_id = patient.get('id')\n",
    "        last_name = 'Smith'  # Since we filtered by this last name\n",
    "        first_names = []\n",
    "        email_addresses = []\n",
    "\n",
    "        # Extract the first names and email addresses from the patient data\n",
    "        for name in patient.get('name', []):\n",
    "            if name.get('use') in ['usual', 'official']:\n",
    "                first_names.extend(name.get('given', []))\n",
    "        \n",
    "        for contact in patient.get('telecom', []):\n",
    "            if contact.get('system') == 'email':\n",
    "                email_addresses.append(contact.get('value'))\n",
    "\n",
    "        # Compose the line for the current patient\n",
    "        first_name = \" \".join(first_names) if first_names else \"\"\n",
    "        email_address = email_addresses[0] if email_addresses else \"\"\n",
    "        line = f\"| {first_name} | {last_name} | {email_address} | {patient_id} |\"\n",
    "        table.append(line)\n",
    "    \n",
    "    # Print the markdown table\n",
    "    for line in table:\n",
    "        print(line)\n",
    "else:\n",
    "    print(f'Request failed with status code: {response.status_code}')"
   ]
  },
  {
   "cell_type": "markdown",
   "metadata": {},
   "source": [
    "| First Name | Last Name | Email Address | Patient ID |\n",
    "|------------|-----------|----------------|-------------|\n",
    "|  | Smith |  | 52865 |\n",
    "|  | Smith |  | 53254 |\n",
    "|  | Smith | sarahsmith@gmail.com | 591264 |\n",
    "|  | Smith |  | 591645 |\n",
    "| Michelle | Smith |  | 594843 |\n",
    "|  | Smith |  | 596719 |\n",
    "|  | Smith |  | 596720 |\n",
    "|  | Smith |  | 596721 |\n",
    "|  | Smith |  | 596722 |\n",
    "|  | Smith |  | 596723 |\n",
    "|  | Smith |  | 596724 |\n",
    "|  | Smith |  | 596725 |\n",
    "|  | Smith |  | 596726 |\n",
    "|  | Smith |  | 596732 |\n",
    "|  | Smith |  | 596733 |\n",
    "|  | Smith |  | 596736 |\n",
    "|  | Smith |  | 596737 |\n",
    "|  | Smith |  | 596764 |\n",
    "| Sean | Smith |  | 597226 |\n",
    "| Julia | Smith |  | 618626 |"
   ]
  },
  {
   "cell_type": "markdown",
   "metadata": {},
   "source": [
    "Write a script that will search for all the patient's who are taking Alemtuzumab medication. Create a markdown table with their name, ID, the medication note."
   ]
  },
  {
   "cell_type": "code",
   "execution_count": 10,
   "metadata": {},
   "outputs": [
    {
     "name": "stdout",
     "output_type": "stream",
     "text": [
      "| Name | ID | Medication Note |\n",
      "|---|---|---|\n",
      "\n"
     ]
    }
   ],
   "source": [
    "\n",
    "\n",
    "# Function to search for Medication based on the display name\n",
    "def search_medication(medication_name):\n",
    "    response = requests.get(f\"{base_url}/Medication?code:text={medication_name}\")\n",
    "    if response.status_code == 200:\n",
    "        medications = response.json()\n",
    "        # Return the ID of the first matching Medication\n",
    "        if 'entry' in medications and len(medications['entry']) > 0:\n",
    "            return medications['entry'][0]['resource']['id']\n",
    "    return None\n",
    "\n",
    "# Function to search for MedicationRequest based on medication ID\n",
    "def get_medication_requests(medication_id):\n",
    "    response = requests.get(f\"{base_url}/MedicationRequest?medication={medication_id}\")\n",
    "    if response.status_code == 200:\n",
    "        return response.json()\n",
    "    return None\n",
    "\n",
    "# Function to get Patient details by ID\n",
    "def get_patient_details(patient_id):\n",
    "    response = requests.get(f\"{base_url}/Patient/{patient_id}\")\n",
    "    if response.status_code == 200:\n",
    "        patient_data = response.json()\n",
    "        patient_name_data = patient_data.get('name', [])[0]\n",
    "        patient_name = patient_name_data.get('given', [])[0] + \" \" + patient_name_data.get('family', \"\")\n",
    "        return patient_name\n",
    "    return \"Unknown\"\n",
    "\n",
    "# Find the ID for Alemtuzumab\n",
    "medication_id = search_medication(\"Alemtuzumab\")\n",
    "\n",
    "# If medication_id is found, find patients taking Alemtuzumab\n",
    "if medication_id:\n",
    "    medication_requests = get_medication_requests(medication_id)\n",
    "\n",
    "    # Initialize a markdown table with headers\n",
    "    markdown_table = \"| Name | ID | Medication Note |\\n|---|---|---|\\n\"\n",
    "\n",
    "    # Iterate over MedicationRequest resources and populate the markdown table\n",
    "    if medication_requests and 'entry' in medication_requests:\n",
    "        for entry in medication_requests['entry']:\n",
    "            med_request = entry['resource']\n",
    "            patient_ref = med_request['subject']['reference']\n",
    "            patient_id = patient_ref.split('/')[-1]\n",
    "            patient_name = get_patient_details(patient_id)\n",
    "            medication_note = med_request.get('note', [{'text': ''}])[0].get('text', '')\n",
    "\n",
    "            # Add the patient details to the markdown table\n",
    "            markdown_table += f\"| {patient_name} | {patient_id} | {medication_note} |\\n\"\n",
    "else:\n",
    "    markdown_table = \"No Alemtuzumab medication found.\"\n",
    "\n",
    "# Output the markdown table\n",
    "print(markdown_table)"
   ]
  }
 ],
 "metadata": {
  "kernelspec": {
   "display_name": "fhir-assistant-dqhhNJNC-py3.11",
   "language": "python",
   "name": "python3"
  },
  "language_info": {
   "codemirror_mode": {
    "name": "ipython",
    "version": 3
   },
   "file_extension": ".py",
   "mimetype": "text/x-python",
   "name": "python",
   "nbconvert_exporter": "python",
   "pygments_lexer": "ipython3",
   "version": "3.11.4"
  }
 },
 "nbformat": 4,
 "nbformat_minor": 2
}
